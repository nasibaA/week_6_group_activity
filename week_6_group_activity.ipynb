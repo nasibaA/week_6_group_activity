{
 "cells": [
  {
   "cell_type": "code",
   "execution_count": 1,
   "id": "9f789d4d",
   "metadata": {},
   "outputs": [
    {
     "name": "stdout",
     "output_type": "stream",
     "text": [
      "   Show Number    Air Date      Round                         Category  Value  \\\n",
      "0         4680  12/31/2004  Jeopardy!                          HISTORY  $200    \n",
      "1         4680  12/31/2004  Jeopardy!  ESPN's TOP 10 ALL-TIME ATHLETES  $200    \n",
      "2         4680  12/31/2004  Jeopardy!      EVERYBODY TALKS ABOUT IT...  $200    \n",
      "3         4680  12/31/2004  Jeopardy!                 THE COMPANY LINE  $200    \n",
      "4         4680  12/31/2004  Jeopardy!              EPITAPHS & TRIBUTES  $200    \n",
      "\n",
      "                                            Question      Answer  \n",
      "0  For the last 8 years of his life, Galileo was ...  Copernicus  \n",
      "1  No. 2: 1912 Olympian; football star at Carlisl...  Jim Thorpe  \n",
      "2  The city of Yuma in this state has a record av...     Arizona  \n",
      "3  In 1963, live on \"The Art Linkletter Show\", th...  McDonald's  \n",
      "4  Signer of the Dec. of Indep., framer of the Co...  John Adams  \n"
     ]
    }
   ],
   "source": [
    "import pandas as pd\n",
    "import numpy as np\n",
    "import matplotlib.pyplot as plt\n",
    "\n",
    "\n",
    "file_to_load = \"JEOPARDY_CSV.csv\"\n",
    "df = pd.read_csv(file_to_load)\n",
    "print(df.head())"
   ]
  },
  {
   "cell_type": "code",
   "execution_count": 2,
   "id": "21623415",
   "metadata": {},
   "outputs": [
    {
     "data": {
      "text/html": [
       "<div>\n",
       "<style scoped>\n",
       "    .dataframe tbody tr th:only-of-type {\n",
       "        vertical-align: middle;\n",
       "    }\n",
       "\n",
       "    .dataframe tbody tr th {\n",
       "        vertical-align: top;\n",
       "    }\n",
       "\n",
       "    .dataframe thead th {\n",
       "        text-align: right;\n",
       "    }\n",
       "</style>\n",
       "<table border=\"1\" class=\"dataframe\">\n",
       "  <thead>\n",
       "    <tr style=\"text-align: right;\">\n",
       "      <th></th>\n",
       "      <th>Show Number</th>\n",
       "      <th>Air Date</th>\n",
       "      <th>Round</th>\n",
       "      <th>Category</th>\n",
       "      <th>Value</th>\n",
       "      <th>Question</th>\n",
       "      <th>Answer</th>\n",
       "    </tr>\n",
       "  </thead>\n",
       "  <tbody>\n",
       "    <tr>\n",
       "      <th>0</th>\n",
       "      <td>4680</td>\n",
       "      <td>12/31/2004</td>\n",
       "      <td>Jeopardy!</td>\n",
       "      <td>HISTORY</td>\n",
       "      <td>$200</td>\n",
       "      <td>For the last 8 years of his life, Galileo was ...</td>\n",
       "      <td>Copernicus</td>\n",
       "    </tr>\n",
       "    <tr>\n",
       "      <th>1</th>\n",
       "      <td>4680</td>\n",
       "      <td>12/31/2004</td>\n",
       "      <td>Jeopardy!</td>\n",
       "      <td>ESPN's TOP 10 ALL-TIME ATHLETES</td>\n",
       "      <td>$200</td>\n",
       "      <td>No. 2: 1912 Olympian; football star at Carlisl...</td>\n",
       "      <td>Jim Thorpe</td>\n",
       "    </tr>\n",
       "    <tr>\n",
       "      <th>2</th>\n",
       "      <td>4680</td>\n",
       "      <td>12/31/2004</td>\n",
       "      <td>Jeopardy!</td>\n",
       "      <td>EVERYBODY TALKS ABOUT IT...</td>\n",
       "      <td>$200</td>\n",
       "      <td>The city of Yuma in this state has a record av...</td>\n",
       "      <td>Arizona</td>\n",
       "    </tr>\n",
       "    <tr>\n",
       "      <th>3</th>\n",
       "      <td>4680</td>\n",
       "      <td>12/31/2004</td>\n",
       "      <td>Jeopardy!</td>\n",
       "      <td>THE COMPANY LINE</td>\n",
       "      <td>$200</td>\n",
       "      <td>In 1963, live on \"The Art Linkletter Show\", th...</td>\n",
       "      <td>McDonald's</td>\n",
       "    </tr>\n",
       "    <tr>\n",
       "      <th>4</th>\n",
       "      <td>4680</td>\n",
       "      <td>12/31/2004</td>\n",
       "      <td>Jeopardy!</td>\n",
       "      <td>EPITAPHS &amp; TRIBUTES</td>\n",
       "      <td>$200</td>\n",
       "      <td>Signer of the Dec. of Indep., framer of the Co...</td>\n",
       "      <td>John Adams</td>\n",
       "    </tr>\n",
       "    <tr>\n",
       "      <th>...</th>\n",
       "      <td>...</td>\n",
       "      <td>...</td>\n",
       "      <td>...</td>\n",
       "      <td>...</td>\n",
       "      <td>...</td>\n",
       "      <td>...</td>\n",
       "      <td>...</td>\n",
       "    </tr>\n",
       "    <tr>\n",
       "      <th>216925</th>\n",
       "      <td>4999</td>\n",
       "      <td>5/11/2006</td>\n",
       "      <td>Double Jeopardy!</td>\n",
       "      <td>RIDDLE ME THIS</td>\n",
       "      <td>$2,000</td>\n",
       "      <td>This Puccini opera turns on the solution to 3 ...</td>\n",
       "      <td>Turandot</td>\n",
       "    </tr>\n",
       "    <tr>\n",
       "      <th>216926</th>\n",
       "      <td>4999</td>\n",
       "      <td>5/11/2006</td>\n",
       "      <td>Double Jeopardy!</td>\n",
       "      <td>\"T\" BIRDS</td>\n",
       "      <td>$2,000</td>\n",
       "      <td>In North America this term is properly applied...</td>\n",
       "      <td>a titmouse</td>\n",
       "    </tr>\n",
       "    <tr>\n",
       "      <th>216927</th>\n",
       "      <td>4999</td>\n",
       "      <td>5/11/2006</td>\n",
       "      <td>Double Jeopardy!</td>\n",
       "      <td>AUTHORS IN THEIR YOUTH</td>\n",
       "      <td>$2,000</td>\n",
       "      <td>In Penny Lane, where this \"Hellraiser\" grew up...</td>\n",
       "      <td>Clive Barker</td>\n",
       "    </tr>\n",
       "    <tr>\n",
       "      <th>216928</th>\n",
       "      <td>4999</td>\n",
       "      <td>5/11/2006</td>\n",
       "      <td>Double Jeopardy!</td>\n",
       "      <td>QUOTATIONS</td>\n",
       "      <td>$2,000</td>\n",
       "      <td>From Ft. Sill, Okla. he made the plea, Arizona...</td>\n",
       "      <td>Geronimo</td>\n",
       "    </tr>\n",
       "    <tr>\n",
       "      <th>216929</th>\n",
       "      <td>4999</td>\n",
       "      <td>5/11/2006</td>\n",
       "      <td>Final Jeopardy!</td>\n",
       "      <td>HISTORIC NAMES</td>\n",
       "      <td>None</td>\n",
       "      <td>A silent movie title includes the last name of...</td>\n",
       "      <td>Grigori Alexandrovich Potemkin</td>\n",
       "    </tr>\n",
       "  </tbody>\n",
       "</table>\n",
       "<p>216930 rows × 7 columns</p>\n",
       "</div>"
      ],
      "text/plain": [
       "        Show Number    Air Date             Round  \\\n",
       "0              4680  12/31/2004         Jeopardy!   \n",
       "1              4680  12/31/2004         Jeopardy!   \n",
       "2              4680  12/31/2004         Jeopardy!   \n",
       "3              4680  12/31/2004         Jeopardy!   \n",
       "4              4680  12/31/2004         Jeopardy!   \n",
       "...             ...         ...               ...   \n",
       "216925         4999   5/11/2006  Double Jeopardy!   \n",
       "216926         4999   5/11/2006  Double Jeopardy!   \n",
       "216927         4999   5/11/2006  Double Jeopardy!   \n",
       "216928         4999   5/11/2006  Double Jeopardy!   \n",
       "216929         4999   5/11/2006   Final Jeopardy!   \n",
       "\n",
       "                               Category    Value  \\\n",
       "0                               HISTORY    $200    \n",
       "1       ESPN's TOP 10 ALL-TIME ATHLETES    $200    \n",
       "2           EVERYBODY TALKS ABOUT IT...    $200    \n",
       "3                      THE COMPANY LINE    $200    \n",
       "4                   EPITAPHS & TRIBUTES    $200    \n",
       "...                                 ...      ...   \n",
       "216925                   RIDDLE ME THIS  $2,000    \n",
       "216926                        \"T\" BIRDS  $2,000    \n",
       "216927           AUTHORS IN THEIR YOUTH  $2,000    \n",
       "216928                       QUOTATIONS  $2,000    \n",
       "216929                   HISTORIC NAMES     None   \n",
       "\n",
       "                                                 Question  \\\n",
       "0       For the last 8 years of his life, Galileo was ...   \n",
       "1       No. 2: 1912 Olympian; football star at Carlisl...   \n",
       "2       The city of Yuma in this state has a record av...   \n",
       "3       In 1963, live on \"The Art Linkletter Show\", th...   \n",
       "4       Signer of the Dec. of Indep., framer of the Co...   \n",
       "...                                                   ...   \n",
       "216925  This Puccini opera turns on the solution to 3 ...   \n",
       "216926  In North America this term is properly applied...   \n",
       "216927  In Penny Lane, where this \"Hellraiser\" grew up...   \n",
       "216928  From Ft. Sill, Okla. he made the plea, Arizona...   \n",
       "216929  A silent movie title includes the last name of...   \n",
       "\n",
       "                                Answer  \n",
       "0                           Copernicus  \n",
       "1                           Jim Thorpe  \n",
       "2                              Arizona  \n",
       "3                           McDonald's  \n",
       "4                           John Adams  \n",
       "...                                ...  \n",
       "216925                        Turandot  \n",
       "216926                      a titmouse  \n",
       "216927                    Clive Barker  \n",
       "216928                        Geronimo  \n",
       "216929  Grigori Alexandrovich Potemkin  \n",
       "\n",
       "[216930 rows x 7 columns]"
      ]
     },
     "execution_count": 2,
     "metadata": {},
     "output_type": "execute_result"
    }
   ],
   "source": [
    "df_data = pd.DataFrame(df)\n",
    "df_data"
   ]
  },
  {
   "cell_type": "markdown",
   "id": "e187e8be",
   "metadata": {},
   "source": [
    "# A . How many rows are there in the dataframe? What does a row represent in this dataset? What is the \"grain\"?\n",
    "\n",
    "\n"
   ]
  },
  {
   "cell_type": "code",
   "execution_count": 3,
   "id": "81591302",
   "metadata": {},
   "outputs": [
    {
     "name": "stdout",
     "output_type": "stream",
     "text": [
      "216930\n"
     ]
    }
   ],
   "source": [
    "print(len(df_data)) # The data rows represent questions and answers.\n",
    "                    \n"
   ]
  },
  {
   "cell_type": "markdown",
   "id": "194e5f9b",
   "metadata": {},
   "source": [
    "# B.Clean the data.How do you need to \"clean it\" What is \"dirty\"about this data?"
   ]
  },
  {
   "cell_type": "code",
   "execution_count": 4,
   "id": "a68aeed2",
   "metadata": {},
   "outputs": [
    {
     "data": {
      "text/plain": [
       "Show Number    0\n",
       " Air Date      0\n",
       " Round         0\n",
       " Category      0\n",
       " Value         0\n",
       " Question      0\n",
       " Answer        0\n",
       "dtype: int64"
      ]
     },
     "execution_count": 4,
     "metadata": {},
     "output_type": "execute_result"
    }
   ],
   "source": [
    "# first we have to find where exactly we have to clean data for that isnull()method will help us. \n",
    "#Out put will be True/False boolean values that indicate which values are missing and which are not missing and also we will call sum to count the missing values.\n",
    "data_clean = df_data.isnull().sum()\n",
    "data_clean\n",
    "\n",
    "find_missing = np.where(df_data.isnull())[0]\n",
    "find_missing\n",
    "\n",
    "Frame_missing = pd.DataFrame(df_data.iloc[[94817, 143297]])\n",
    "Frame_missing\n",
    "\n",
    "df_data = df_data.fillna(\"No Answer\")\n",
    "df_data.iloc[[94817, 143297]]\n",
    "\n",
    "# checking \n",
    "df_data.isnull().sum()"
   ]
  },
  {
   "cell_type": "markdown",
   "id": "ae583dd1",
   "metadata": {},
   "source": [
    "# C. How many unique shows were there each year?"
   ]
  },
  {
   "cell_type": "code",
   "execution_count": 5,
   "id": "3443604a",
   "metadata": {},
   "outputs": [
    {
     "data": {
      "text/plain": [
       "Year\n",
       "1984    3\n",
       "1985    3\n",
       "1986    3\n",
       "1987    3\n",
       "1988    3\n",
       "1989    3\n",
       "1990    3\n",
       "1991    3\n",
       "1992    3\n",
       "1993    3\n",
       "1994    3\n",
       "1995    3\n",
       "1996    3\n",
       "1997    4\n",
       "1998    3\n",
       "1999    3\n",
       "2000    3\n",
       "2001    3\n",
       "2002    4\n",
       "2003    3\n",
       "2004    3\n",
       "2005    3\n",
       "2006    3\n",
       "2007    4\n",
       "2008    3\n",
       "2009    3\n",
       "2010    3\n",
       "2011    3\n",
       "2012    3\n",
       "Name:  Round, dtype: int64"
      ]
     },
     "execution_count": 5,
     "metadata": {},
     "output_type": "execute_result"
    }
   ],
   "source": [
    "df_data[\" Air Date\"]=pd.to_datetime(df_data[\" Air Date\"])\n",
    "df_data[\"Year\"]=df_data[\" Air Date\"].dt.year\n",
    "data_grouped = df_data.groupby(\"Year\")[\" Round\"].nunique()\n",
    "data_grouped"
   ]
  },
  {
   "cell_type": "markdown",
   "id": "27692b73",
   "metadata": {},
   "source": [
    "# D. How many times was each category used?"
   ]
  },
  {
   "cell_type": "code",
   "execution_count": 6,
   "id": "ba860690",
   "metadata": {},
   "outputs": [
    {
     "data": {
      "text/html": [
       "<div>\n",
       "<style scoped>\n",
       "    .dataframe tbody tr th:only-of-type {\n",
       "        vertical-align: middle;\n",
       "    }\n",
       "\n",
       "    .dataframe tbody tr th {\n",
       "        vertical-align: top;\n",
       "    }\n",
       "\n",
       "    .dataframe thead th {\n",
       "        text-align: right;\n",
       "    }\n",
       "</style>\n",
       "<table border=\"1\" class=\"dataframe\">\n",
       "  <thead>\n",
       "    <tr style=\"text-align: right;\">\n",
       "      <th></th>\n",
       "      <th>Times Used</th>\n",
       "    </tr>\n",
       "  </thead>\n",
       "  <tbody>\n",
       "    <tr>\n",
       "      <th>BEFORE &amp; AFTER</th>\n",
       "      <td>547</td>\n",
       "    </tr>\n",
       "    <tr>\n",
       "      <th>SCIENCE</th>\n",
       "      <td>519</td>\n",
       "    </tr>\n",
       "    <tr>\n",
       "      <th>LITERATURE</th>\n",
       "      <td>496</td>\n",
       "    </tr>\n",
       "    <tr>\n",
       "      <th>AMERICAN HISTORY</th>\n",
       "      <td>418</td>\n",
       "    </tr>\n",
       "    <tr>\n",
       "      <th>POTPOURRI</th>\n",
       "      <td>401</td>\n",
       "    </tr>\n",
       "    <tr>\n",
       "      <th>...</th>\n",
       "      <td>...</td>\n",
       "    </tr>\n",
       "    <tr>\n",
       "      <th>POTPOURRI...NO FOOLIN'</th>\n",
       "      <td>1</td>\n",
       "    </tr>\n",
       "    <tr>\n",
       "      <th>BRITISH PAINTERS</th>\n",
       "      <td>1</td>\n",
       "    </tr>\n",
       "    <tr>\n",
       "      <th>MIDWAY ISLAND</th>\n",
       "      <td>1</td>\n",
       "    </tr>\n",
       "    <tr>\n",
       "      <th>THE OXFORD ENGLISH DICTIONARY</th>\n",
       "      <td>1</td>\n",
       "    </tr>\n",
       "    <tr>\n",
       "      <th>EXPLORING</th>\n",
       "      <td>1</td>\n",
       "    </tr>\n",
       "  </tbody>\n",
       "</table>\n",
       "<p>27983 rows × 1 columns</p>\n",
       "</div>"
      ],
      "text/plain": [
       "                               Times Used\n",
       "BEFORE & AFTER                        547\n",
       "SCIENCE                               519\n",
       "LITERATURE                            496\n",
       "AMERICAN HISTORY                      418\n",
       "POTPOURRI                             401\n",
       "...                                   ...\n",
       "POTPOURRI...NO FOOLIN'                  1\n",
       "BRITISH PAINTERS                        1\n",
       "MIDWAY ISLAND                           1\n",
       "THE OXFORD ENGLISH DICTIONARY           1\n",
       "EXPLORING                               1\n",
       "\n",
       "[27983 rows x 1 columns]"
      ]
     },
     "execution_count": 6,
     "metadata": {},
     "output_type": "execute_result"
    }
   ],
   "source": [
    "\n",
    "category_count = pd.DataFrame(df_data[\" Category\"].value_counts())\n",
    "\n",
    "category_count.columns = [\"Times Used\"]\n",
    "\n",
    "category_count"
   ]
  },
  {
   "cell_type": "markdown",
   "id": "28600f9f",
   "metadata": {},
   "source": [
    "# E. which month (over the years) has had the most shows?"
   ]
  },
  {
   "cell_type": "code",
   "execution_count": 79,
   "id": "8ebcbf9f",
   "metadata": {},
   "outputs": [
    {
     "data": {
      "text/html": [
       "<div>\n",
       "<style scoped>\n",
       "    .dataframe tbody tr th:only-of-type {\n",
       "        vertical-align: middle;\n",
       "    }\n",
       "\n",
       "    .dataframe tbody tr th {\n",
       "        vertical-align: top;\n",
       "    }\n",
       "\n",
       "    .dataframe thead th {\n",
       "        text-align: right;\n",
       "    }\n",
       "</style>\n",
       "<table border=\"1\" class=\"dataframe\">\n",
       "  <thead>\n",
       "    <tr style=\"text-align: right;\">\n",
       "      <th></th>\n",
       "      <th>Show Number</th>\n",
       "    </tr>\n",
       "    <tr>\n",
       "      <th>Month</th>\n",
       "      <th></th>\n",
       "    </tr>\n",
       "  </thead>\n",
       "  <tbody>\n",
       "    <tr>\n",
       "      <th>11</th>\n",
       "      <td>434</td>\n",
       "    </tr>\n",
       "  </tbody>\n",
       "</table>\n",
       "</div>"
      ],
      "text/plain": [
       "       Show Number\n",
       "Month             \n",
       "11             434"
      ]
     },
     "execution_count": 79,
     "metadata": {},
     "output_type": "execute_result"
    }
   ],
   "source": [
    "\n",
    "df_data[\" Air Date\"]=pd.to_datetime(df_data[\" Air Date\"])\n",
    "df_data[\"Month\"]=df_data[\" Air Date\"].dt.month\n",
    "data_grouped = df_data.groupby(\"Month\")[\"Show Number\"].nunique()\n",
    "data_grouped_2 = pd.DataFrame(data_grouped)\n",
    "data_grouped_3 = data_grouped_2.sort_values([\"Show Number\"], ascending=False).head(1)\n",
    "data_grouped_3\n",
    "\n",
    "\n"
   ]
  },
  {
   "cell_type": "markdown",
   "id": "9b82bccb",
   "metadata": {},
   "source": [
    "# F. Are there any answers that appeared multiple times? Find the questions for the top three most common answers."
   ]
  },
  {
   "cell_type": "code",
   "execution_count": 57,
   "id": "315d4ccf",
   "metadata": {},
   "outputs": [
    {
     "data": {
      "text/plain": [
       "China        216\n",
       "Australia    215\n",
       "Japan        196\n",
       "Name:  Answer, dtype: int64"
      ]
     },
     "execution_count": 57,
     "metadata": {},
     "output_type": "execute_result"
    }
   ],
   "source": [
    "data_answer = df_data[\" Answer\"].value_counts()\n",
    "data_answer.head(3)"
   ]
  },
  {
   "cell_type": "code",
   "execution_count": 61,
   "id": "cfc0fae8",
   "metadata": {},
   "outputs": [
    {
     "data": {
      "text/html": [
       "<div>\n",
       "<style scoped>\n",
       "    .dataframe tbody tr th:only-of-type {\n",
       "        vertical-align: middle;\n",
       "    }\n",
       "\n",
       "    .dataframe tbody tr th {\n",
       "        vertical-align: top;\n",
       "    }\n",
       "\n",
       "    .dataframe thead th {\n",
       "        text-align: right;\n",
       "    }\n",
       "</style>\n",
       "<table border=\"1\" class=\"dataframe\">\n",
       "  <thead>\n",
       "    <tr style=\"text-align: right;\">\n",
       "      <th></th>\n",
       "      <th>Answer</th>\n",
       "      <th>Question</th>\n",
       "    </tr>\n",
       "  </thead>\n",
       "  <tbody>\n",
       "    <tr>\n",
       "      <th>598</th>\n",
       "      <td>China</td>\n",
       "      <td>In 1958 this country launched its second 5-yea...</td>\n",
       "    </tr>\n",
       "    <tr>\n",
       "      <th>1507</th>\n",
       "      <td>China</td>\n",
       "      <td>In 1999 this country began 3 \"golden weeks\" of...</td>\n",
       "    </tr>\n",
       "    <tr>\n",
       "      <th>3050</th>\n",
       "      <td>China</td>\n",
       "      <td>P.F. Chang's is an upscale bistro specializing...</td>\n",
       "    </tr>\n",
       "    <tr>\n",
       "      <th>3476</th>\n",
       "      <td>China</td>\n",
       "      <td>This country's National People's Congress has ...</td>\n",
       "    </tr>\n",
       "    <tr>\n",
       "      <th>5990</th>\n",
       "      <td>China</td>\n",
       "      <td>Of the 6 nations India borders, this one is th...</td>\n",
       "    </tr>\n",
       "    <tr>\n",
       "      <th>...</th>\n",
       "      <td>...</td>\n",
       "      <td>...</td>\n",
       "    </tr>\n",
       "    <tr>\n",
       "      <th>211129</th>\n",
       "      <td>Japan</td>\n",
       "      <td>On Feb. 8, 1904 this country attacked Port Art...</td>\n",
       "    </tr>\n",
       "    <tr>\n",
       "      <th>214711</th>\n",
       "      <td>Japan</td>\n",
       "      <td>This nation's maritime self-defense force, suc...</td>\n",
       "    </tr>\n",
       "    <tr>\n",
       "      <th>215513</th>\n",
       "      <td>Japan</td>\n",
       "      <td>On July 8, 1853 Matthew Perry presented a lett...</td>\n",
       "    </tr>\n",
       "    <tr>\n",
       "      <th>215568</th>\n",
       "      <td>Japan</td>\n",
       "      <td>Kirin</td>\n",
       "    </tr>\n",
       "    <tr>\n",
       "      <th>216660</th>\n",
       "      <td>Japan</td>\n",
       "      <td>In Asia: Prime Minister Junichiro Koizumi</td>\n",
       "    </tr>\n",
       "  </tbody>\n",
       "</table>\n",
       "<p>627 rows × 2 columns</p>\n",
       "</div>"
      ],
      "text/plain": [
       "        Answer                                           Question\n",
       "598      China  In 1958 this country launched its second 5-yea...\n",
       "1507     China  In 1999 this country began 3 \"golden weeks\" of...\n",
       "3050     China  P.F. Chang's is an upscale bistro specializing...\n",
       "3476     China  This country's National People's Congress has ...\n",
       "5990     China  Of the 6 nations India borders, this one is th...\n",
       "...        ...                                                ...\n",
       "211129   Japan  On Feb. 8, 1904 this country attacked Port Art...\n",
       "214711   Japan  This nation's maritime self-defense force, suc...\n",
       "215513   Japan  On July 8, 1853 Matthew Perry presented a lett...\n",
       "215568   Japan                                              Kirin\n",
       "216660   Japan          In Asia: Prime Minister Junichiro Koizumi\n",
       "\n",
       "[627 rows x 2 columns]"
      ]
     },
     "execution_count": 61,
     "metadata": {},
     "output_type": "execute_result"
    }
   ],
   "source": [
    "data_answer_1 = pd.DataFrame(df_data[df_data[\" Answer\"]=='China'][[' Answer',' Question']])\n",
    "data_answer_2 = pd.DataFrame(df_data[df_data[\" Answer\"]=='Australia'][[' Answer',' Question']])\n",
    "data_answer_3 = pd.DataFrame(df_data[df_data[\" Answer\"]=='Japan'][[' Answer',' Question']])\n",
    "\n",
    "data_answers = [ data_answer_1,data_answer_2, data_answer_3]\n",
    "\n",
    "Questions = pd.concat(data_answers)\n",
    "Questions"
   ]
  },
  {
   "cell_type": "markdown",
   "id": "f700e832",
   "metadata": {},
   "source": [
    "# 2. Create a visualization that shows the top 5 categories (those referenced the most often). Be sure to label appropriately."
   ]
  },
  {
   "cell_type": "code",
   "execution_count": 80,
   "id": "6773e943",
   "metadata": {},
   "outputs": [
    {
     "data": {
      "text/plain": [
       "Text(0, 0.5, 'Times Used')"
      ]
     },
     "execution_count": 80,
     "metadata": {},
     "output_type": "execute_result"
    },
    {
     "data": {
      "image/png": "[encoded data removed]",
      "text/plain": [
       "<Figure size 432x288 with 1 Axes>"
      ]
     },
     "metadata": {
      "needs_background": "light"
     },
     "output_type": "display_data"
    }
   ],
   "source": [
    "category_count = pd.DataFrame(df_data[\" Category\"].value_counts())\n",
    "\n",
    "category_count.columns = [\"Times Used\"]\n",
    "\n",
    "cat_count = category_count.head(5)\n",
    "\n",
    "cat_count.plot.bar(title = \"Most Popular Jeopardy Categories\",rot = 60)\n",
    "plt.xlabel(\"Categories\")\n",
    "plt.ylabel(\"Times Used\")\n"
   ]
  },
  {
   "cell_type": "code",
   "execution_count": null,
   "id": "15ed528d",
   "metadata": {},
   "outputs": [],
   "source": []
  }
 ],
 "metadata": {
  "kernelspec": {
   "display_name": "Python 3 (ipykernel)",
   "language": "python",
   "name": "python3"
  },
  "language_info": {
   "codemirror_mode": {
    "name": "ipython",
    "version": 3
   },
   "file_extension": ".py",
   "mimetype": "text/x-python",
   "name": "python",
   "nbconvert_exporter": "python",
   "pygments_lexer": "ipython3",
   "version": "3.8.5"
  }
 },
 "nbformat": 4,
 "nbformat_minor": 5
}
